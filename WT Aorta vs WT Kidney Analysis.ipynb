{
 "cells": [
  {
   "cell_type": "code",
   "execution_count": 1,
   "id": "ff92d9fc",
   "metadata": {},
   "outputs": [
    {
     "name": "stderr",
     "output_type": "stream",
     "text": [
      "also installing the dependencies 'fs', 'rappdirs', 'processx', 'xfun', 'blob', 'lifecycle', 'vctrs', 'glue', 'tidyselect', 'data.table', 'gargle', 'ids', 'rematch2', 'isoband', 'cpp11', 'callr', 'knitr', 'withr', 'ellipsis', 'broom', 'cli', 'crayon', 'dbplyr', 'dplyr', 'dtplyr', 'forcats', 'googledrive', 'googlesheets4', 'ggplot2', 'haven', 'hms', 'httr', 'jsonlite', 'lubridate', 'magrittr', 'modelr', 'pillar', 'purrr', 'readr', 'reprex', 'rlang', 'rstudioapi', 'rvest', 'tibble', 'tidyr', 'xml2'\n",
      "\n"
     ]
    },
    {
     "name": "stdout",
     "output_type": "stream",
     "text": [
      "\n",
      "  There are binary versions available but the source versions are later:\n",
      "          binary source needs_compilation\n",
      "knitr       1.31   1.32             FALSE\n",
      "withr      2.4.1  2.4.2             FALSE\n",
      "haven      2.3.1  2.4.0              TRUE\n",
      "tibble     3.1.0  3.1.1              TRUE\n",
      "tidyverse  1.3.0  1.3.1             FALSE\n",
      "\n",
      "  Binaries will be installed\n",
      "package 'fs' successfully unpacked and MD5 sums checked\n",
      "package 'rappdirs' successfully unpacked and MD5 sums checked\n",
      "package 'processx' successfully unpacked and MD5 sums checked\n",
      "package 'xfun' successfully unpacked and MD5 sums checked\n",
      "package 'blob' successfully unpacked and MD5 sums checked\n",
      "package 'lifecycle' successfully unpacked and MD5 sums checked\n",
      "package 'vctrs' successfully unpacked and MD5 sums checked\n",
      "package 'glue' successfully unpacked and MD5 sums checked\n",
      "package 'tidyselect' successfully unpacked and MD5 sums checked\n",
      "package 'data.table' successfully unpacked and MD5 sums checked\n",
      "package 'gargle' successfully unpacked and MD5 sums checked\n",
      "package 'ids' successfully unpacked and MD5 sums checked\n",
      "package 'rematch2' successfully unpacked and MD5 sums checked\n",
      "package 'isoband' successfully unpacked and MD5 sums checked\n",
      "package 'cpp11' successfully unpacked and MD5 sums checked\n",
      "package 'callr' successfully unpacked and MD5 sums checked\n",
      "package 'ellipsis' successfully unpacked and MD5 sums checked\n",
      "package 'broom' successfully unpacked and MD5 sums checked\n",
      "package 'cli' successfully unpacked and MD5 sums checked\n",
      "package 'crayon' successfully unpacked and MD5 sums checked\n",
      "package 'dbplyr' successfully unpacked and MD5 sums checked\n",
      "package 'dplyr' successfully unpacked and MD5 sums checked\n",
      "package 'dtplyr' successfully unpacked and MD5 sums checked\n",
      "package 'forcats' successfully unpacked and MD5 sums checked\n",
      "package 'googledrive' successfully unpacked and MD5 sums checked\n",
      "package 'googlesheets4' successfully unpacked and MD5 sums checked\n",
      "package 'ggplot2' successfully unpacked and MD5 sums checked\n",
      "package 'haven' successfully unpacked and MD5 sums checked\n",
      "package 'hms' successfully unpacked and MD5 sums checked\n",
      "package 'httr' successfully unpacked and MD5 sums checked\n",
      "package 'jsonlite' successfully unpacked and MD5 sums checked\n"
     ]
    },
    {
     "name": "stderr",
     "output_type": "stream",
     "text": [
      "Warning message:\n",
      "\"cannot remove prior installation of package 'jsonlite'\"Warning message in file.copy(savedcopy, lib, recursive = TRUE):\n",
      "\"problem copying C:\\Users\\b42na\\Anaconda3\\envs\\R\\Lib\\R\\library\\00LOCK\\jsonlite\\libs\\x64\\jsonlite.dll to C:\\Users\\b42na\\Anaconda3\\envs\\R\\Lib\\R\\library\\jsonlite\\libs\\x64\\jsonlite.dll: Permission denied\"Warning message:\n",
      "\"restored 'jsonlite'\""
     ]
    },
    {
     "name": "stdout",
     "output_type": "stream",
     "text": [
      "package 'lubridate' successfully unpacked and MD5 sums checked\n",
      "package 'magrittr' successfully unpacked and MD5 sums checked\n",
      "package 'modelr' successfully unpacked and MD5 sums checked\n",
      "package 'pillar' successfully unpacked and MD5 sums checked\n",
      "package 'purrr' successfully unpacked and MD5 sums checked\n",
      "package 'readr' successfully unpacked and MD5 sums checked\n",
      "package 'reprex' successfully unpacked and MD5 sums checked\n",
      "package 'rlang' successfully unpacked and MD5 sums checked\n",
      "package 'rstudioapi' successfully unpacked and MD5 sums checked\n",
      "package 'rvest' successfully unpacked and MD5 sums checked\n",
      "package 'tibble' successfully unpacked and MD5 sums checked\n",
      "package 'tidyr' successfully unpacked and MD5 sums checked\n",
      "package 'xml2' successfully unpacked and MD5 sums checked\n",
      "\n",
      "The downloaded binary packages are in\n",
      "\tC:\\Users\\b42na\\AppData\\Local\\Temp\\RtmpIVUcEu\\downloaded_packages\n"
     ]
    },
    {
     "name": "stderr",
     "output_type": "stream",
     "text": [
      "installing the source packages 'knitr', 'withr', 'tidyverse'\n",
      "\n",
      "Warning message in install.packages(\"tidyverse\", repos = \"http://cran.us.r-project.org\"):\n",
      "\"installation of package 'tidyverse' had non-zero exit status\"-- Attaching packages --------------------------------------- tidyverse 1.2.1 --\n",
      "v ggplot2 3.3.3     v purrr   0.3.4\n",
      "v tibble  3.1.0     v dplyr   1.0.5\n",
      "v tidyr   1.1.3     v stringr 1.4.0\n",
      "v readr   1.4.0     v forcats 0.5.1\n",
      "Warning message:\n",
      "\"package 'ggplot2' was built under R version 3.6.3\"Warning message:\n",
      "\"package 'tibble' was built under R version 3.6.3\"Warning message:\n",
      "\"package 'tidyr' was built under R version 3.6.3\"Warning message:\n",
      "\"package 'readr' was built under R version 3.6.3\"Warning message:\n",
      "\"package 'purrr' was built under R version 3.6.3\"Warning message:\n",
      "\"package 'dplyr' was built under R version 3.6.3\"Warning message:\n",
      "\"package 'forcats' was built under R version 3.6.3\"-- Conflicts ------------------------------------------ tidyverse_conflicts() --\n",
      "x dplyr::filter() masks stats::filter()\n",
      "x dplyr::lag()    masks stats::lag()\n"
     ]
    },
    {
     "name": "stdout",
     "output_type": "stream",
     "text": [
      "package 'BiocManager' successfully unpacked and MD5 sums checked\n",
      "\n",
      "The downloaded binary packages are in\n",
      "\tC:\\Users\\b42na\\AppData\\Local\\Temp\\RtmpIVUcEu\\downloaded_packages\n"
     ]
    },
    {
     "ename": "ERROR",
     "evalue": "Error in library(ComplexHeatmap): there is no package called 'ComplexHeatmap'\n",
     "output_type": "error",
     "traceback": [
      "Error in library(ComplexHeatmap): there is no package called 'ComplexHeatmap'\nTraceback:\n",
      "1. library(ComplexHeatmap)"
     ]
    }
   ],
   "source": [
    "#Brad Fortunato\n",
    "\n",
    "\n",
    "#install necessary packages;tidyverse for ggplot \n",
    "#and Biocmanager for complexheatmap\n",
    "\n",
    "install.packages(\"tidyverse\", repos = \"http://cran.us.r-project.org\")\n",
    "library(tidyverse)\n"
   ]
  },
  {
   "cell_type": "code",
   "execution_count": 3,
   "id": "666b03d4",
   "metadata": {},
   "outputs": [],
   "source": [
    "#read in aorta and kidney data, get headers from each and set those as column names\n",
    "\n",
    "aorta <- read.table(\"C:/Users/b42na/Downloads/GSE158197_RawCounts_CS_200225_aorta.txt.gz\", skip = 1,  header = FALSE, sep = \"\", dec = \".\")\n",
    "headers_a <- read.table(\"C:/Users/b42na/Downloads/GSE158197_RawCounts_CS_200225_aorta.txt.gz\", header = F, nrows = 1, as.is = T)\n",
    "kidney <- read.table(\"C:/Users/b42na/Documents/Broad Inst/GSE158197_RawCounts_BS_200803_kidney.txt\", skip = 1,  header = FALSE, sep = \"\", dec = \".\")\n",
    "headers_k <- read.table(\"C:/Users/b42na/Documents/Broad Inst/GSE158197_RawCounts_BS_200803_kidney.txt\", header = F, nrows = 1, as.is = T) \n",
    "colnames(aorta) <- headers_a\n",
    "colnames(kidney) <- headers_k\n",
    "\n",
    "#Picked sox17 gene to compare across the two WT groups; combine into one dataframe (rotating it)\n",
    "\n",
    "data_ak_rp1 <- aorta[20,5:14] \n",
    "data_ak_rp1[nrow(data_ak_rp1) +1,] =  kidney[20,5:14]\n",
    "df<-as.data.frame(t(data_ak_rp1)) \n",
    "\n",
    "#change names of columns\n",
    "\n",
    "names(df) <- gsub(\"20\", \"gene_1\", names(df))\n",
    "names(df) <- gsub(\"2\", \"gene_2\", names(df))\n",
    "denom <- rownames(df)\n",
    "df$names = denom"
   ]
  },
  {
   "cell_type": "code",
   "execution_count": 4,
   "id": "8a131bda",
   "metadata": {},
   "outputs": [
    {
     "name": "stderr",
     "output_type": "stream",
     "text": [
      "`geom_smooth()` using formula 'y ~ x'\n"
     ]
    },
    {
     "data": {
      "image/png": "[encoded data removed]",
      "text/plain": [
       "plot without title"
      ]
     },
     "metadata": {},
     "output_type": "display_data"
    }
   ],
   "source": [
    "#scatter plot\n",
    "p <- ggplot(df, aes(x = gene_1, y = gene_2)) + geom_point(color = \"red\") + geom_smooth(method = 'lm') + \n",
    "  geom_text(aes(label = names), vjust=2, size = 3)+\n",
    "  labs(x = \"Sox17 Expression: WT Aorta\", y = \"Sox17 Expression: WT Kidney\", title = \"Scatterplot: Expression of Sox17 in Wild Type Mus Muscula (Aorta vs. Kidney)\" ) \n",
    "show(p)"
   ]
  },
  {
   "cell_type": "code",
   "execution_count": 5,
   "id": "c03acbd7",
   "metadata": {},
   "outputs": [
    {
     "data": {
      "text/plain": [
       "\n",
       "\tPearson's product-moment correlation\n",
       "\n",
       "data:  df$gene_1 and df$gene_2\n",
       "t = 3.8663, df = 8, p-value = 0.004766\n",
       "alternative hypothesis: true correlation is not equal to 0\n",
       "95 percent confidence interval:\n",
       " 0.3608203 0.9526254\n",
       "sample estimates:\n",
       "      cor \n",
       "0.8070902 \n"
      ]
     },
     "metadata": {},
     "output_type": "display_data"
    }
   ],
   "source": [
    "#pearson correlation test\n",
    "cor.test(df$gene_1, df$gene_2)"
   ]
  },
  {
   "cell_type": "code",
   "execution_count": 6,
   "id": "4b3168da",
   "metadata": {},
   "outputs": [],
   "source": [
    "###################################################################################################\n",
    "\n",
    "#new data frame; Mrpl15\n",
    "df2 <- as.data.frame(t(aorta[32,5:14]))\n",
    "names(df2) <- gsub(\"32\", \"gene_3\", names(df2))\n",
    "\n",
    "#add name column\n",
    "denom <- rownames(df2)\n",
    "df2$names = denom"
   ]
  },
  {
   "cell_type": "code",
   "execution_count": 7,
   "id": "530bb130",
   "metadata": {},
   "outputs": [
    {
     "data": {
      "image/png": "[encoded data removed]",
      "text/plain": [
       "plot without title"
      ]
     },
     "metadata": {},
     "output_type": "display_data"
    }
   ],
   "source": [
    "#barplot\n",
    "\n",
    "b <- ggplot(df2, aes(y = gene_3, x = names,label = \"Mrpl15\")) + geom_bar(stat = \"identity\", fill = \"red\") +   labs(x = \"Wild Type Replicates (Aorta)\", y = \"Expression Across All Replicates\", title = \"Mrpl15 Expression Across all WT Replicates (Aorta)\" ) \n",
    "\n",
    "b + theme(axis.text.x = element_text(angle = 45, hjust=1))"
   ]
  },
  {
   "cell_type": "code",
   "execution_count": 11,
   "id": "1f9ca003",
   "metadata": {},
   "outputs": [
    {
     "name": "stderr",
     "output_type": "stream",
     "text": [
      "Bioconductor version '3.10' is out-of-date; the current release version '3.12'\n",
      "  is available with R version '4.0'; see https://bioconductor.org/install\n",
      "'getOption(\"repos\")' replaces Bioconductor standard repositories, see\n",
      "'?repositories' for details\n",
      "\n",
      "replacement repositories:\n",
      "    CRAN: https://cran.r-project.org\n",
      "\n",
      "Bioconductor version 3.10 (BiocManager 1.30.12), R 3.6.1 (2019-07-05)\n",
      "Installing package(s) 'BiocVersion', 'ComplexHeatmap'\n",
      "also installing the dependencies 'shape', 'rjson', 'circlize', 'GetoptLong', 'clue', 'GlobalOptions', 'png'\n",
      "\n"
     ]
    },
    {
     "name": "stdout",
     "output_type": "stream",
     "text": [
      "\n",
      "  There is a binary version available but the source version is later:\n",
      "     binary source needs_compilation\n",
      "clue 0.3-58 0.3-59              TRUE\n",
      "\n",
      "  Binaries will be installed\n",
      "package 'shape' successfully unpacked and MD5 sums checked\n",
      "package 'rjson' successfully unpacked and MD5 sums checked\n",
      "package 'circlize' successfully unpacked and MD5 sums checked\n",
      "package 'GetoptLong' successfully unpacked and MD5 sums checked\n",
      "package 'clue' successfully unpacked and MD5 sums checked\n",
      "package 'GlobalOptions' successfully unpacked and MD5 sums checked\n",
      "package 'png' successfully unpacked and MD5 sums checked\n",
      "package 'BiocVersion' successfully unpacked and MD5 sums checked\n",
      "package 'ComplexHeatmap' successfully unpacked and MD5 sums checked\n",
      "\n",
      "The downloaded binary packages are in\n",
      "\tC:\\Users\\b42na\\AppData\\Local\\Temp\\RtmpIVUcEu\\downloaded_packages\n"
     ]
    },
    {
     "name": "stderr",
     "output_type": "stream",
     "text": [
      "Old packages: 'askpass', 'backports', 'BH', 'boot', 'caret', 'class', 'clipr',\n",
      "  'clue', 'cluster', 'codetools', 'colorspace', 'curl', 'DBI', 'digest',\n",
      "  'evaluate', 'fansi', 'foreach', 'formatR', 'generics', 'glmnet', 'gower',\n",
      "  'haven', 'hexbin', 'highr', 'htmltools', 'htmlwidgets', 'httpuv', 'ipred',\n",
      "  'IRdisplay', 'IRkernel', 'iterators', 'jsonlite', 'KernSmooth', 'labeling',\n",
      "  'later', 'lattice', 'lava', 'markdown', 'MASS', 'Matrix', 'mgcv', 'mime',\n",
      "  'ModelMetrics', 'nlme', 'nnet', 'numDeriv', 'openssl', 'pbdZMQ', 'pkgconfig',\n",
      "  'plyr', 'prettyunits', 'prodlim', 'progress', 'promises', 'ps', 'quantmod',\n",
      "  'R6', 'Rcpp', 'recipes', 'repr', 'reshape2', 'rmarkdown', 'scales',\n",
      "  'selectr', 'shiny', 'spatial', 'SQUAREM', 'stringi', 'survival', 'sys',\n",
      "  'tibble', 'tidyverse', 'tinytex', 'TTR', 'utf8', 'uuid', 'viridisLite',\n",
      "  'whisker', 'xts', 'yaml', 'zoo'\n",
      "Loading required package: grid\n",
      "========================================\n",
      "ComplexHeatmap version 2.2.0\n",
      "Bioconductor page: http://bioconductor.org/packages/ComplexHeatmap/\n",
      "Github page: https://github.com/jokergoo/ComplexHeatmap\n",
      "Documentation: http://jokergoo.github.io/ComplexHeatmap-reference\n",
      "\n",
      "If you use it in published research, please cite:\n",
      "Gu, Z. Complex heatmaps reveal patterns and correlations in multidimensional \n",
      "  genomic data. Bioinformatics 2016.\n",
      "========================================\n",
      "\n"
     ]
    },
    {
     "data": {
      "image/png": "[encoded data removed]",
      "text/plain": [
       "plot without title"
      ]
     },
     "metadata": {},
     "output_type": "display_data"
    }
   ],
   "source": [
    "###################################################################################################\n",
    "if (!requireNamespace(\"BiocManager\", quietly = TRUE))\n",
    "  install.packages(\"BiocManager\")\n",
    "BiocManager::install(\"ComplexHeatmap\")\n",
    "library(\"ComplexHeatmap\")\n",
    "\n",
    "#Bonus: heatmap of top 50 highest expressed genes (aorta)\n",
    "df3 <- as.matrix(aorta[,5:14])\n",
    "\n",
    "#order by high to low, then top 50 cutoff\n",
    "df3 = df3[order(df3[,1],decreasing=TRUE),] \n",
    "df3 <- df3[1:50,]\n",
    "\n",
    "#heatmap\n",
    "Heatmap(df3, name = \"Expression\")\n"
   ]
  }
 ],
 "metadata": {
  "kernelspec": {
   "display_name": "R",
   "language": "R",
   "name": "ir"
  },
  "language_info": {
   "codemirror_mode": "r",
   "file_extension": ".r",
   "mimetype": "text/x-r-source",
   "name": "R",
   "pygments_lexer": "r",
   "version": "3.6.1"
  }
 },
 "nbformat": 4,
 "nbformat_minor": 5
}
